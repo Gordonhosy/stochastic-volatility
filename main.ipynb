{
 "cells": [
  {
   "cell_type": "markdown",
   "id": "c2712d43-c4f4-4884-abbe-b85a304b7ed8",
   "metadata": {
    "tags": []
   },
   "source": [
    "!pip install blpapi --index-url=https://bcms.bloomberg.com/pip/simple/"
   ]
  },
  {
   "cell_type": "markdown",
   "id": "cb1b79ec-f886-4a48-824b-a9b1bdcaa96c",
   "metadata": {
    "tags": []
   },
   "source": [
    "!pip install xbbg"
   ]
  },
  {
   "cell_type": "markdown",
   "id": "cdb7a5bf-16d7-45d0-80fa-164f7dd3b528",
   "metadata": {},
   "source": [
    "### Extract Data from Bloomberg"
   ]
  },
  {
   "cell_type": "code",
   "execution_count": null,
   "id": "f7322a26",
   "metadata": {
    "tags": []
   },
   "outputs": [],
   "source": [
    "from xbbg import blp\n",
    "import data_handler"
   ]
  },
  {
   "cell_type": "code",
   "execution_count": null,
   "id": "b6e9cbb4",
   "metadata": {},
   "outputs": [],
   "source": [
    "date = '2024-03-26'\n",
    "raw = data_handler.raw_snapshot('HSI Index', date)\n",
    "\n",
    "output = open('raw.pkl', 'wb')\n",
    "pickle.dump(raw, output)\n",
    "output.close()"
   ]
  },
  {
   "cell_type": "markdown",
   "id": "3c54d6ab-480d-446f-8a1e-675cdcfc3fe7",
   "metadata": {},
   "source": [
    "### Implied Volatility"
   ]
  },
  {
   "cell_type": "code",
   "execution_count": 1,
   "id": "bb0902e8-7275-45bc-853b-bb1845d0b3c7",
   "metadata": {
    "tags": []
   },
   "outputs": [],
   "source": [
    "import black_scholes\n",
    "import pickle\n",
    "import numpy as np"
   ]
  },
  {
   "cell_type": "code",
   "execution_count": 2,
   "id": "a9dc2240",
   "metadata": {
    "tags": []
   },
   "outputs": [],
   "source": [
    "pkl_file = open('raw.pkl', 'rb')\n",
    "raw = pickle.load(pkl_file)"
   ]
  },
  {
   "cell_type": "code",
   "execution_count": 3,
   "id": "3ec5377b",
   "metadata": {
    "tags": []
   },
   "outputs": [
    {
     "name": "stderr",
     "output_type": "stream",
     "text": [
      "C:\\Users\\user\\anaconda3\\Lib\\site-packages\\scipy\\optimize\\_zeros_py.py:361: RuntimeWarning: Tolerance of 0.00012099999999998223 reached.\n",
      "  warnings.warn(msg, RuntimeWarning)\n",
      "C:\\Users\\user\\anaconda3\\Lib\\site-packages\\scipy\\optimize\\_zeros_py.py:361: RuntimeWarning: Tolerance of 16042976675971.223 reached.\n",
      "  warnings.warn(msg, RuntimeWarning)\n",
      "C:\\Users\\user\\anaconda3\\Lib\\site-packages\\scipy\\optimize\\_zeros_py.py:361: RuntimeWarning: Tolerance of 816910040842.3612 reached.\n",
      "  warnings.warn(msg, RuntimeWarning)\n",
      "C:\\Users\\user\\anaconda3\\Lib\\site-packages\\scipy\\optimize\\_zeros_py.py:361: RuntimeWarning: Tolerance of 10242682708.72238 reached.\n",
      "  warnings.warn(msg, RuntimeWarning)\n",
      "C:\\Users\\user\\anaconda3\\Lib\\site-packages\\scipy\\optimize\\_zeros_py.py:361: RuntimeWarning: Tolerance of 6021348.890187866 reached.\n",
      "  warnings.warn(msg, RuntimeWarning)\n",
      "C:\\Users\\user\\anaconda3\\Lib\\site-packages\\scipy\\optimize\\_zeros_py.py:361: RuntimeWarning: Tolerance of 5049835657.681949 reached.\n",
      "  warnings.warn(msg, RuntimeWarning)\n",
      "C:\\Users\\user\\anaconda3\\Lib\\site-packages\\scipy\\optimize\\_zeros_py.py:361: RuntimeWarning: Tolerance of 2661301924.0591984 reached.\n",
      "  warnings.warn(msg, RuntimeWarning)\n",
      "C:\\Users\\user\\anaconda3\\Lib\\site-packages\\scipy\\optimize\\_zeros_py.py:361: RuntimeWarning: Tolerance of 4119780.3705791854 reached.\n",
      "  warnings.warn(msg, RuntimeWarning)\n",
      "C:\\Users\\user\\anaconda3\\Lib\\site-packages\\scipy\\optimize\\_zeros_py.py:361: RuntimeWarning: Tolerance of 844949501.9962114 reached.\n",
      "  warnings.warn(msg, RuntimeWarning)\n",
      "C:\\Users\\user\\anaconda3\\Lib\\site-packages\\scipy\\optimize\\_zeros_py.py:361: RuntimeWarning: Tolerance of 1798879.059851667 reached.\n",
      "  warnings.warn(msg, RuntimeWarning)\n",
      "C:\\Users\\user\\anaconda3\\Lib\\site-packages\\scipy\\optimize\\_zeros_py.py:361: RuntimeWarning: Tolerance of 9.932529143608093e-08 reached.\n",
      "  warnings.warn(msg, RuntimeWarning)\n",
      "C:\\Users\\user\\anaconda3\\Lib\\site-packages\\scipy\\optimize\\_zeros_py.py:361: RuntimeWarning: Tolerance of 45929156.37450836 reached.\n",
      "  warnings.warn(msg, RuntimeWarning)\n",
      "C:\\Users\\user\\anaconda3\\Lib\\site-packages\\scipy\\optimize\\_zeros_py.py:361: RuntimeWarning: Tolerance of 212827.42263818128 reached.\n",
      "  warnings.warn(msg, RuntimeWarning)\n",
      "C:\\Users\\user\\anaconda3\\Lib\\site-packages\\scipy\\optimize\\_zeros_py.py:361: RuntimeWarning: Tolerance of 0.005025153305882754 reached.\n",
      "  warnings.warn(msg, RuntimeWarning)\n",
      "C:\\Users\\user\\anaconda3\\Lib\\site-packages\\scipy\\optimize\\_zeros_py.py:361: RuntimeWarning: Tolerance of 3.1779325590439167e-06 reached.\n",
      "  warnings.warn(msg, RuntimeWarning)\n",
      "C:\\Users\\user\\anaconda3\\Lib\\site-packages\\scipy\\optimize\\_zeros_py.py:361: RuntimeWarning: Tolerance of 9.522139615424086e-05 reached.\n",
      "  warnings.warn(msg, RuntimeWarning)\n",
      "C:\\Users\\user\\anaconda3\\Lib\\site-packages\\scipy\\optimize\\_zeros_py.py:361: RuntimeWarning: Tolerance of 5591545.7293088995 reached.\n",
      "  warnings.warn(msg, RuntimeWarning)\n",
      "C:\\Users\\user\\anaconda3\\Lib\\site-packages\\scipy\\optimize\\_zeros_py.py:361: RuntimeWarning: Tolerance of 0.0018497833035281547 reached.\n",
      "  warnings.warn(msg, RuntimeWarning)\n",
      "C:\\Users\\user\\anaconda3\\Lib\\site-packages\\scipy\\optimize\\_zeros_py.py:361: RuntimeWarning: Tolerance of 1537671229.6916635 reached.\n",
      "  warnings.warn(msg, RuntimeWarning)\n",
      "C:\\Users\\user\\anaconda3\\Lib\\site-packages\\scipy\\optimize\\_zeros_py.py:361: RuntimeWarning: Tolerance of 0.021384532478732735 reached.\n",
      "  warnings.warn(msg, RuntimeWarning)\n",
      "C:\\Users\\user\\anaconda3\\Lib\\site-packages\\scipy\\optimize\\_zeros_py.py:361: RuntimeWarning: Tolerance of 0.0013635175990203696 reached.\n",
      "  warnings.warn(msg, RuntimeWarning)\n",
      "C:\\Users\\user\\anaconda3\\Lib\\site-packages\\scipy\\optimize\\_zeros_py.py:361: RuntimeWarning: Tolerance of 377311404.4967612 reached.\n",
      "  warnings.warn(msg, RuntimeWarning)\n",
      "C:\\Users\\user\\anaconda3\\Lib\\site-packages\\scipy\\optimize\\_zeros_py.py:361: RuntimeWarning: Tolerance of 30546236.81757231 reached.\n",
      "  warnings.warn(msg, RuntimeWarning)\n",
      "C:\\Users\\user\\anaconda3\\Lib\\site-packages\\scipy\\optimize\\_zeros_py.py:361: RuntimeWarning: Tolerance of 1.2156274190391891e-07 reached.\n",
      "  warnings.warn(msg, RuntimeWarning)\n",
      "C:\\Users\\user\\anaconda3\\Lib\\site-packages\\scipy\\optimize\\_zeros_py.py:361: RuntimeWarning: Tolerance of 4.656438049635508e+17 reached.\n",
      "  warnings.warn(msg, RuntimeWarning)\n",
      "C:\\Users\\user\\anaconda3\\Lib\\site-packages\\scipy\\optimize\\_zeros_py.py:361: RuntimeWarning: Tolerance of 3133724.952848644 reached.\n",
      "  warnings.warn(msg, RuntimeWarning)\n",
      "C:\\Users\\user\\anaconda3\\Lib\\site-packages\\scipy\\optimize\\_zeros_py.py:361: RuntimeWarning: Tolerance of 188447156941081.6 reached.\n",
      "  warnings.warn(msg, RuntimeWarning)\n",
      "C:\\Users\\user\\anaconda3\\Lib\\site-packages\\scipy\\optimize\\_zeros_py.py:361: RuntimeWarning: Tolerance of 9.190449304363746e-08 reached.\n",
      "  warnings.warn(msg, RuntimeWarning)\n",
      "C:\\Users\\user\\anaconda3\\Lib\\site-packages\\scipy\\optimize\\_zeros_py.py:361: RuntimeWarning: Tolerance of 300018907.8276942 reached.\n",
      "  warnings.warn(msg, RuntimeWarning)\n",
      "C:\\Users\\user\\anaconda3\\Lib\\site-packages\\scipy\\optimize\\_zeros_py.py:361: RuntimeWarning: Tolerance of 2493841756496.7285 reached.\n",
      "  warnings.warn(msg, RuntimeWarning)\n",
      "C:\\Users\\user\\anaconda3\\Lib\\site-packages\\scipy\\optimize\\_zeros_py.py:361: RuntimeWarning: Tolerance of 0.006541951991030991 reached.\n",
      "  warnings.warn(msg, RuntimeWarning)\n",
      "C:\\Users\\user\\anaconda3\\Lib\\site-packages\\scipy\\optimize\\_zeros_py.py:361: RuntimeWarning: Tolerance of 0.0005566488750932425 reached.\n",
      "  warnings.warn(msg, RuntimeWarning)\n",
      "C:\\Users\\user\\anaconda3\\Lib\\site-packages\\scipy\\optimize\\_zeros_py.py:361: RuntimeWarning: Tolerance of 4406908.390363839 reached.\n",
      "  warnings.warn(msg, RuntimeWarning)\n"
     ]
    }
   ],
   "source": [
    "imp_vol_sur = black_scholes.implied_vol_surface(raw)\n",
    "imp_vol_sur.root_finding('secant')"
   ]
  },
  {
   "cell_type": "code",
   "execution_count": 4,
   "id": "39bf57c6-fbb1-492e-a772-a161de1e14b6",
   "metadata": {
    "tags": []
   },
   "outputs": [
    {
     "data": {
      "text/plain": [
       "{1, 34, 93, 185}"
      ]
     },
     "execution_count": 4,
     "metadata": {},
     "output_type": "execute_result"
    }
   ],
   "source": [
    "set(imp_vol_sur.days_to_exp)"
   ]
  },
  {
   "cell_type": "code",
   "execution_count": 5,
   "id": "ff6238d2-e88b-4dc2-a21d-d788c25f839c",
   "metadata": {
    "tags": []
   },
   "outputs": [
    {
     "data": {
      "text/plain": [
       "[(0.22332844711209798, 15000),\n",
       " (0.22217779343033284, 15100),\n",
       " (0.22124278804323047, 15200),\n",
       " (0.22086783385760336, 15300),\n",
       " (0.22018993042942578, 15400),\n",
       " (0.21922024610217658, 15500),\n",
       " (0.21868272792074953, 15600),\n",
       " (0.21747474106398798, 15700),\n",
       " (0.21630989345203971, 15800),\n",
       " (0.21615376399396935, 15900),\n",
       " (0.21692282716778352, 16000),\n",
       " (0.21729333994323552, 16100),\n",
       " (0.2157292201812107, 16200),\n",
       " (0.21599336245452788, 16300),\n",
       " (0.2168034061223327, 16400),\n",
       " (0.21663861000842108, 16500),\n",
       " (0.21672792200447102, 16600),\n",
       " (0.21616881448419506, 16700),\n",
       " (0.21830137691902043, 16800),\n",
       " (0.22531164941590323, 16900),\n",
       " (0.22566191925556894, 17000),\n",
       " (0.22572960297556696, 17100),\n",
       " (0.22583422254262328, 17200),\n",
       " (0.2320535610974812, 17300),\n",
       " (nan, 17400),\n",
       " (nan, 17500),\n",
       " (nan, 17600),\n",
       " (nan, 17700),\n",
       " (nan, 17800),\n",
       " (nan, 17900),\n",
       " (0.2208048509903087, 18000),\n",
       " (nan, 18100),\n",
       " (nan, 18200)]"
      ]
     },
     "execution_count": 5,
     "metadata": {},
     "output_type": "execute_result"
    }
   ],
   "source": [
    "from itertools import compress\n",
    "[(x,y) for x,y in zip(list(compress(imp_vol_sur.imp_vol_put_asks, [93 == x for x in imp_vol_sur.days_to_exp])), list(compress(imp_vol_sur.strikes, [93 == x for x in imp_vol_sur.days_to_exp])))]"
   ]
  },
  {
   "cell_type": "code",
   "execution_count": 8,
   "id": "17261aa1-63c7-4fcf-bbac-eed65d87b6dc",
   "metadata": {
    "tags": []
   },
   "outputs": [
    {
     "data": {
      "text/plain": [
       "[<matplotlib.lines.Line2D at 0x25371758350>]"
      ]
     },
     "execution_count": 8,
     "metadata": {},
     "output_type": "execute_result"
    },
    {
     "data": {
      "image/png": "[encoded data removed]",
      "text/plain": [
       "<Figure size 640x480 with 1 Axes>"
      ]
     },
     "metadata": {},
     "output_type": "display_data"
    }
   ],
   "source": [
    "import matplotlib.pyplot as plt\n",
    "plt.plot(list(compress(imp_vol_sur.strikes, [93 == x for x in imp_vol_sur.days_to_exp])), list(compress(imp_vol_sur.imp_vol_put_asks, [93 == x for x in imp_vol_sur.days_to_exp])))"
   ]
  },
  {
   "cell_type": "code",
   "execution_count": null,
   "id": "f6ac8208-05c0-4c86-bf3e-4b59884a2469",
   "metadata": {},
   "outputs": [],
   "source": []
  }
 ],
 "metadata": {
  "kernelspec": {
   "display_name": "Python 3 (ipykernel)",
   "language": "python",
   "name": "python3"
  },
  "language_info": {
   "codemirror_mode": {
    "name": "ipython",
    "version": 3
   },
   "file_extension": ".py",
   "mimetype": "text/x-python",
   "name": "python",
   "nbconvert_exporter": "python",
   "pygments_lexer": "ipython3",
   "version": "3.11.5"
  }
 },
 "nbformat": 4,
 "nbformat_minor": 5
}
