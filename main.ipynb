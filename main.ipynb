{
 "cells": [
  {
   "cell_type": "markdown",
   "id": "9f9460b0-f2bd-4d74-84e9-5ed957ecbaba",
   "metadata": {},
   "source": [
    "!pip install blpapi --index-url=https://bcms.bloomberg.com/pip/simple/"
   ]
  },
  {
   "cell_type": "markdown",
   "id": "cc9858ff-d1d3-49af-9e48-7a4b1a95217e",
   "metadata": {},
   "source": [
    "!pip install xbbg"
   ]
  },
  {
   "cell_type": "code",
   "execution_count": 66,
   "id": "0c4642a9",
   "metadata": {},
   "outputs": [
    {
     "data": {
      "text/html": [
       "<div>\n",
       "<style scoped>\n",
       "    .dataframe tbody tr th:only-of-type {\n",
       "        vertical-align: middle;\n",
       "    }\n",
       "\n",
       "    .dataframe tbody tr th {\n",
       "        vertical-align: top;\n",
       "    }\n",
       "\n",
       "    .dataframe thead tr th {\n",
       "        text-align: left;\n",
       "    }\n",
       "</style>\n",
       "<table border=\"1\" class=\"dataframe\">\n",
       "  <thead>\n",
       "    <tr>\n",
       "      <th></th>\n",
       "      <th colspan=\"2\" halign=\"left\">HSCEI 4 C6000 Index</th>\n",
       "    </tr>\n",
       "    <tr>\n",
       "      <th></th>\n",
       "      <th>PX_BID</th>\n",
       "      <th>PX_ASK</th>\n",
       "    </tr>\n",
       "  </thead>\n",
       "  <tbody>\n",
       "    <tr>\n",
       "      <th>2024-02-26</th>\n",
       "      <td>164.0</td>\n",
       "      <td>169.0</td>\n",
       "    </tr>\n",
       "  </tbody>\n",
       "</table>\n",
       "</div>"
      ],
      "text/plain": [
       "           HSCEI 4 C6000 Index       \n",
       "                        PX_BID PX_ASK\n",
       "2024-02-26               164.0  169.0"
      ]
     },
     "execution_count": 66,
     "metadata": {},
     "output_type": "execute_result"
    }
   ],
   "source": [
    "df = blp.bdh(tickers = 'HSCEI 4 C6000 Index', flds = ['PX_BID', 'PX_ASK', 'DS035'], start_date = '2024-02-26', end_date = '2024-02-26')\n",
    "df"
   ]
  },
  {
   "cell_type": "code",
   "execution_count": 3,
   "id": "f7322a26",
   "metadata": {},
   "outputs": [],
   "source": [
    "from xbbg import blp\n",
    "import data_handler\n",
    "import black_scholes\n",
    "import pickle"
   ]
  },
  {
   "cell_type": "code",
   "execution_count": null,
   "id": "b6e9cbb4",
   "metadata": {},
   "outputs": [],
   "source": [
    "date = '2024-03-26'\n",
    "raw = data_handler.raw_snapshot('HSI Index', date)\n",
    "\n",
    "output = open('raw.pkl', 'wb')\n",
    "pickle.dump(raw, output)\n",
    "output.close()"
   ]
  },
  {
   "cell_type": "code",
   "execution_count": 4,
   "id": "a9dc2240",
   "metadata": {},
   "outputs": [],
   "source": [
    "pkl_file = open('raw.pkl', 'rb')\n",
    "raw = pickle.load(pkl_file)"
   ]
  },
  {
   "cell_type": "code",
   "execution_count": 5,
   "id": "3ec5377b",
   "metadata": {},
   "outputs": [
    {
     "ename": "NameError",
     "evalue": "name 'T' is not defined",
     "output_type": "error",
     "traceback": [
      "\u001b[1;31m---------------------------------------------------------------------------\u001b[0m",
      "\u001b[1;31mNameError\u001b[0m                                 Traceback (most recent call last)",
      "Cell \u001b[1;32mIn[5], line 2\u001b[0m\n\u001b[0;32m      1\u001b[0m imp_vol_sur \u001b[38;5;241m=\u001b[39m black_scholes\u001b[38;5;241m.\u001b[39mimplied_vol_surface(raw)\n\u001b[1;32m----> 2\u001b[0m \u001b[43mimp_vol_sur\u001b[49m\u001b[38;5;241;43m.\u001b[39;49m\u001b[43mnewton_raphson\u001b[49m\u001b[43m(\u001b[49m\u001b[43m)\u001b[49m\n",
      "File \u001b[1;32m~\\OneDrive - King's College London\\Documents\\stochastic-volatility\\black_scholes.py:109\u001b[0m, in \u001b[0;36mimplied_vol_surface.newton_raphson\u001b[1;34m(self)\u001b[0m\n\u001b[0;32m    107\u001b[0m \u001b[38;5;66;03m# Step one: find the implied q\u001b[39;00m\n\u001b[0;32m    108\u001b[0m r_bids, r_asks \u001b[38;5;241m=\u001b[39m interpolate_r(\u001b[38;5;28mself\u001b[39m\u001b[38;5;241m.\u001b[39mdata)\n\u001b[1;32m--> 109\u001b[0m imp_q_bids, imp_q_asks \u001b[38;5;241m=\u001b[39m \u001b[43mcalc_implied_q\u001b[49m\u001b[43m(\u001b[49m\u001b[38;5;28;43mself\u001b[39;49m\u001b[38;5;241;43m.\u001b[39;49m\u001b[43mdata\u001b[49m\u001b[43m,\u001b[49m\u001b[43m \u001b[49m\u001b[43mr_bids\u001b[49m\u001b[43m,\u001b[49m\u001b[43m \u001b[49m\u001b[43mr_asks\u001b[49m\u001b[43m)\u001b[49m\n\u001b[0;32m    111\u001b[0m \u001b[38;5;66;03m# Step two: Use Newton-Raphson to find the implied vol\u001b[39;00m\n\u001b[0;32m    112\u001b[0m imp_vol_call_bids \u001b[38;5;241m=\u001b[39m []\n",
      "File \u001b[1;32m~\\OneDrive - King's College London\\Documents\\stochastic-volatility\\black_scholes.py:87\u001b[0m, in \u001b[0;36mimplied_vol_surface.newton_raphson.<locals>.calc_implied_q\u001b[1;34m(data, r_bids, r_asks)\u001b[0m\n\u001b[0;32m     84\u001b[0m q_asks \u001b[38;5;241m=\u001b[39m []\n\u001b[0;32m     86\u001b[0m \u001b[38;5;28;01mfor\u001b[39;00m idx, r_bid \u001b[38;5;129;01min\u001b[39;00m \u001b[38;5;28menumerate\u001b[39m(r_bids): \n\u001b[1;32m---> 87\u001b[0m     q_bids\u001b[38;5;241m.\u001b[39mappend(r_bid \u001b[38;5;241m-\u001b[39m (\u001b[38;5;241m1\u001b[39m \u001b[38;5;241m/\u001b[39m \u001b[43mT\u001b[49m)\u001b[38;5;241m*\u001b[39mnp\u001b[38;5;241m.\u001b[39mlog(\u001b[38;5;28mself\u001b[39m\u001b[38;5;241m.\u001b[39mdata\u001b[38;5;241m.\u001b[39mfutures\u001b[38;5;241m.\u001b[39mbids[idx] \u001b[38;5;241m/\u001b[39m \u001b[38;5;28mself\u001b[39m\u001b[38;5;241m.\u001b[39mdata\u001b[38;5;241m.\u001b[39mspot\u001b[38;5;241m.\u001b[39mmid))\n\u001b[0;32m     89\u001b[0m \u001b[38;5;28;01mfor\u001b[39;00m idx, r_ask \u001b[38;5;129;01min\u001b[39;00m \u001b[38;5;28menumerate\u001b[39m(r_asks):\n\u001b[0;32m     90\u001b[0m     q_asks\u001b[38;5;241m.\u001b[39mappend(r_ask \u001b[38;5;241m-\u001b[39m (\u001b[38;5;241m1\u001b[39m \u001b[38;5;241m/\u001b[39m T)\u001b[38;5;241m*\u001b[39mnp\u001b[38;5;241m.\u001b[39mlog(\u001b[38;5;28mself\u001b[39m\u001b[38;5;241m.\u001b[39mdata\u001b[38;5;241m.\u001b[39mfutures\u001b[38;5;241m.\u001b[39masks[idx] \u001b[38;5;241m/\u001b[39m \u001b[38;5;28mself\u001b[39m\u001b[38;5;241m.\u001b[39mdata\u001b[38;5;241m.\u001b[39mspot\u001b[38;5;241m.\u001b[39mmid))\n",
      "\u001b[1;31mNameError\u001b[0m: name 'T' is not defined"
     ]
    }
   ],
   "source": [
    "imp_vol_sur = black_scholes.implied_vol_surface(raw)\n",
    "imp_vol_sur.newton_raphson()"
   ]
  },
  {
   "cell_type": "code",
   "execution_count": 6,
   "id": "19ee6f03",
   "metadata": {},
   "outputs": [],
   "source": []
  },
  {
   "cell_type": "code",
   "execution_count": 7,
   "id": "8582e185",
   "metadata": {},
   "outputs": [],
   "source": []
  },
  {
   "cell_type": "code",
   "execution_count": null,
   "id": "de4553f2",
   "metadata": {},
   "outputs": [],
   "source": []
  }
 ],
 "metadata": {
  "kernelspec": {
   "display_name": "Python 3 (ipykernel)",
   "language": "python",
   "name": "python3"
  },
  "language_info": {
   "codemirror_mode": {
    "name": "ipython",
    "version": 3
   },
   "file_extension": ".py",
   "mimetype": "text/x-python",
   "name": "python",
   "nbconvert_exporter": "python",
   "pygments_lexer": "ipython3",
   "version": "3.10.9"
  }
 },
 "nbformat": 4,
 "nbformat_minor": 5
}
